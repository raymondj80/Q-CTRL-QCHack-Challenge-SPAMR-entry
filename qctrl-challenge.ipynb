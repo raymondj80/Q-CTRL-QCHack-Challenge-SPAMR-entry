{
 "cells": [
  {
   "cell_type": "code",
   "execution_count": 6,
   "id": "interested-symbol",
   "metadata": {},
   "outputs": [
    {
     "name": "stdout",
     "output_type": "stream",
     "text": [
      "Requirement already satisfied: qctrl in ./.local/lib/python3.7/site-packages (9.5.0)\n",
      "Requirement already satisfied: gql==3.0.0a4 in /opt/conda/lib/python3.7/site-packages (from qctrl) (3.0.0a4)\n",
      "Requirement already satisfied: toml<0.11.0,>=0.10.0 in /opt/conda/lib/python3.7/site-packages (from qctrl) (0.10.2)\n",
      "Requirement already satisfied: click<8.0,>=7.0 in /opt/conda/lib/python3.7/site-packages (from qctrl) (7.1.2)\n",
      "Requirement already satisfied: requests<3.0.0,>=2.23.0 in /opt/conda/lib/python3.7/site-packages (from qctrl) (2.25.1)\n",
      "Requirement already satisfied: attrs<20.0.0,>=19.3.0 in ./.local/lib/python3.7/site-packages (from qctrl) (19.3.0)\n",
      "Requirement already satisfied: cached-property<2.0.0,>=1.5.1 in /opt/conda/lib/python3.7/site-packages (from qctrl) (1.5.2)\n",
      "Requirement already satisfied: numpy>=1.16.2 in /opt/conda/lib/python3.7/site-packages (from qctrl) (1.20.2)\n",
      "Requirement already satisfied: tenacity<7.0.0,>=6.0.0 in /opt/conda/lib/python3.7/site-packages (from qctrl) (6.3.1)\n",
      "Requirement already satisfied: tqdm>=4.30.0 in /opt/conda/lib/python3.7/site-packages (from qctrl) (4.59.0)\n",
      "Requirement already satisfied: commonmark<0.10.0,>=0.9.1 in /opt/conda/lib/python3.7/site-packages (from qctrl) (0.9.1)\n",
      "Requirement already satisfied: python-dateutil<3.0.0,>=2.8.1 in /opt/conda/lib/python3.7/site-packages (from qctrl) (2.8.1)\n",
      "Requirement already satisfied: jsonschema<4.0.0,>=3.2.0 in /opt/conda/lib/python3.7/site-packages (from qctrl) (3.2.0)\n",
      "Requirement already satisfied: python-forge<19.0.0,>=18.6.0 in /opt/conda/lib/python3.7/site-packages (from qctrl) (18.6.0)\n",
      "Requirement already satisfied: qctrl-commons<5.2.0,>=5.1.0 in ./.local/lib/python3.7/site-packages (from qctrl) (5.1.0)\n",
      "Requirement already satisfied: pytz<2021.0,>=2020.1 in ./.local/lib/python3.7/site-packages (from qctrl) (2020.5)\n",
      "Requirement already satisfied: graphql-core<3.2,>=3.1 in /opt/conda/lib/python3.7/site-packages (from gql==3.0.0a4->qctrl) (3.1.4)\n",
      "Requirement already satisfied: yarl<1.6,>=1.4 in /opt/conda/lib/python3.7/site-packages (from gql==3.0.0a4->qctrl) (1.5.1)\n",
      "Requirement already satisfied: chardet<5,>=3.0.2 in /opt/conda/lib/python3.7/site-packages (from requests<3.0.0,>=2.23.0->qctrl) (4.0.0)\n",
      "Requirement already satisfied: idna<3,>=2.5 in /opt/conda/lib/python3.7/site-packages (from requests<3.0.0,>=2.23.0->qctrl) (2.10)\n",
      "Requirement already satisfied: certifi>=2017.4.17 in /opt/conda/lib/python3.7/site-packages (from requests<3.0.0,>=2.23.0->qctrl) (2020.12.5)\n",
      "Requirement already satisfied: urllib3<1.27,>=1.21.1 in /opt/conda/lib/python3.7/site-packages (from requests<3.0.0,>=2.23.0->qctrl) (1.26.4)\n",
      "Requirement already satisfied: six>=1.9.0 in /opt/conda/lib/python3.7/site-packages (from tenacity<7.0.0,>=6.0.0->qctrl) (1.15.0)\n",
      "Requirement already satisfied: pyrsistent>=0.14.0 in /opt/conda/lib/python3.7/site-packages (from jsonschema<4.0.0,>=3.2.0->qctrl) (0.17.3)\n",
      "Requirement already satisfied: setuptools in /opt/conda/lib/python3.7/site-packages (from jsonschema<4.0.0,>=3.2.0->qctrl) (47.1.1.post20200529)\n",
      "Requirement already satisfied: importlib-metadata; python_version < \"3.8\" in /opt/conda/lib/python3.7/site-packages (from jsonschema<4.0.0,>=3.2.0->qctrl) (3.10.0)\n",
      "Requirement already satisfied: pyjwt<3.0.0,>=2.0.1 in /opt/conda/lib/python3.7/site-packages (from qctrl-commons<5.2.0,>=5.1.0->qctrl) (2.0.1)\n",
      "Requirement already satisfied: pythonflow<0.4.0,>=0.3.0 in /opt/conda/lib/python3.7/site-packages (from qctrl-commons<5.2.0,>=5.1.0->qctrl) (0.3.0)\n",
      "Requirement already satisfied: scipy>=1.4.1 in /opt/conda/lib/python3.7/site-packages (from qctrl-commons<5.2.0,>=5.1.0->qctrl) (1.6.2)\n",
      "Requirement already satisfied: dataclasses<0.7,>=0.6 in ./.local/lib/python3.7/site-packages (from qctrl-commons<5.2.0,>=5.1.0->qctrl) (0.6)\n",
      "Requirement already satisfied: aiohttp<4.0.0,>=3.6.2 in ./.local/lib/python3.7/site-packages (from qctrl-commons<5.2.0,>=5.1.0->qctrl) (3.7.4.post0)\n",
      "Requirement already satisfied: inflection<0.6.0,>=0.5.1 in /opt/conda/lib/python3.7/site-packages (from qctrl-commons<5.2.0,>=5.1.0->qctrl) (0.5.1)\n",
      "Requirement already satisfied: typing-extensions>=3.7.4; python_version < \"3.8\" in /opt/conda/lib/python3.7/site-packages (from yarl<1.6,>=1.4->gql==3.0.0a4->qctrl) (3.7.4.3)\n",
      "Requirement already satisfied: multidict>=4.0 in /opt/conda/lib/python3.7/site-packages (from yarl<1.6,>=1.4->gql==3.0.0a4->qctrl) (5.1.0)\n",
      "Requirement already satisfied: zipp>=0.5 in /opt/conda/lib/python3.7/site-packages (from importlib-metadata; python_version < \"3.8\"->jsonschema<4.0.0,>=3.2.0->qctrl) (3.4.1)\n",
      "Requirement already satisfied: async-timeout<4.0,>=3.0 in /opt/conda/lib/python3.7/site-packages (from aiohttp<4.0.0,>=3.6.2->qctrl-commons<5.2.0,>=5.1.0->qctrl) (3.0.1)\n"
     ]
    }
   ],
   "source": [
    "!pip install --user qctrl"
   ]
  },
  {
   "cell_type": "code",
   "execution_count": 9,
   "id": "architectural-charlotte",
   "metadata": {},
   "outputs": [
    {
     "name": "stdout",
     "output_type": "stream",
     "text": [
      "Collecting qctrl-visualizer\n",
      "  Using cached qctrl_visualizer-2.4.2-py3-none-any.whl (24 kB)\n",
      "Collecting qctrl-open-controls\n",
      "  Using cached qctrl_open_controls-7.0.1-py3-none-any.whl (35 kB)\n",
      "Requirement already satisfied: matplotlib>=2.1 in /opt/conda/lib/python3.7/site-packages (from qctrl-visualizer) (3.4.0)\n",
      "Requirement already satisfied: numpy<2.0,>=1.16 in /opt/conda/lib/python3.7/site-packages (from qctrl-visualizer) (1.20.2)\n",
      "Collecting sphinx-rtd-theme<0.5.0,>=0.4.3\n",
      "  Using cached sphinx_rtd_theme-0.4.3-py2.py3-none-any.whl (6.4 MB)\n",
      "Requirement already satisfied: toml<0.11.0,>=0.10.0 in /opt/conda/lib/python3.7/site-packages (from qctrl-visualizer) (0.10.2)\n",
      "Requirement already satisfied: scipy<2.0,>=1.3 in /opt/conda/lib/python3.7/site-packages (from qctrl-open-controls) (1.6.2)\n",
      "Requirement already satisfied: cycler>=0.10 in /opt/conda/lib/python3.7/site-packages (from matplotlib>=2.1->qctrl-visualizer) (0.10.0)\n",
      "Requirement already satisfied: pillow>=6.2.0 in /opt/conda/lib/python3.7/site-packages (from matplotlib>=2.1->qctrl-visualizer) (8.1.2)\n",
      "Requirement already satisfied: python-dateutil>=2.7 in /opt/conda/lib/python3.7/site-packages (from matplotlib>=2.1->qctrl-visualizer) (2.8.1)\n",
      "Requirement already satisfied: kiwisolver>=1.0.1 in /opt/conda/lib/python3.7/site-packages (from matplotlib>=2.1->qctrl-visualizer) (1.3.1)\n",
      "Requirement already satisfied: pyparsing>=2.2.1 in /opt/conda/lib/python3.7/site-packages (from matplotlib>=2.1->qctrl-visualizer) (2.4.7)\n",
      "Collecting sphinx\n",
      "  Using cached Sphinx-3.5.3-py3-none-any.whl (2.8 MB)\n",
      "Requirement already satisfied: six in /opt/conda/lib/python3.7/site-packages (from cycler>=0.10->matplotlib>=2.1->qctrl-visualizer) (1.15.0)\n",
      "Requirement already satisfied: sphinxcontrib-devhelp in /opt/conda/lib/python3.7/site-packages (from sphinx->sphinx-rtd-theme<0.5.0,>=0.4.3->qctrl-visualizer) (1.0.2)\n",
      "Requirement already satisfied: sphinxcontrib-htmlhelp in /opt/conda/lib/python3.7/site-packages (from sphinx->sphinx-rtd-theme<0.5.0,>=0.4.3->qctrl-visualizer) (1.0.3)\n",
      "Collecting alabaster<0.8,>=0.7\n",
      "  Using cached alabaster-0.7.12-py2.py3-none-any.whl (14 kB)\n",
      "Requirement already satisfied: imagesize in /opt/conda/lib/python3.7/site-packages (from sphinx->sphinx-rtd-theme<0.5.0,>=0.4.3->qctrl-visualizer) (1.2.0)\n",
      "Collecting snowballstemmer>=1.1\n",
      "  Using cached snowballstemmer-2.1.0-py2.py3-none-any.whl (93 kB)\n",
      "Requirement already satisfied: sphinxcontrib-jsmath in /opt/conda/lib/python3.7/site-packages (from sphinx->sphinx-rtd-theme<0.5.0,>=0.4.3->qctrl-visualizer) (1.0.1)\n",
      "Requirement already satisfied: packaging in /opt/conda/lib/python3.7/site-packages (from sphinx->sphinx-rtd-theme<0.5.0,>=0.4.3->qctrl-visualizer) (20.9)\n",
      "Requirement already satisfied: requests>=2.5.0 in /opt/conda/lib/python3.7/site-packages (from sphinx->sphinx-rtd-theme<0.5.0,>=0.4.3->qctrl-visualizer) (2.25.1)\n",
      "Requirement already satisfied: sphinxcontrib-qthelp in /opt/conda/lib/python3.7/site-packages (from sphinx->sphinx-rtd-theme<0.5.0,>=0.4.3->qctrl-visualizer) (1.0.3)\n",
      "Requirement already satisfied: Jinja2>=2.3 in /opt/conda/lib/python3.7/site-packages (from sphinx->sphinx-rtd-theme<0.5.0,>=0.4.3->qctrl-visualizer) (2.11.3)\n",
      "Requirement already satisfied: Pygments>=2.0 in /opt/conda/lib/python3.7/site-packages (from sphinx->sphinx-rtd-theme<0.5.0,>=0.4.3->qctrl-visualizer) (2.6.1)\n",
      "Requirement already satisfied: babel>=1.3 in /opt/conda/lib/python3.7/site-packages (from sphinx->sphinx-rtd-theme<0.5.0,>=0.4.3->qctrl-visualizer) (2.9.0)\n",
      "Requirement already satisfied: sphinxcontrib-applehelp in /opt/conda/lib/python3.7/site-packages (from sphinx->sphinx-rtd-theme<0.5.0,>=0.4.3->qctrl-visualizer) (1.0.2)\n",
      "Requirement already satisfied: setuptools in /opt/conda/lib/python3.7/site-packages (from sphinx->sphinx-rtd-theme<0.5.0,>=0.4.3->qctrl-visualizer) (47.1.1.post20200529)\n",
      "Requirement already satisfied: docutils>=0.12 in /opt/conda/lib/python3.7/site-packages (from sphinx->sphinx-rtd-theme<0.5.0,>=0.4.3->qctrl-visualizer) (0.17)\n",
      "Requirement already satisfied: sphinxcontrib-serializinghtml in /opt/conda/lib/python3.7/site-packages (from sphinx->sphinx-rtd-theme<0.5.0,>=0.4.3->qctrl-visualizer) (1.1.4)\n",
      "Requirement already satisfied: chardet<5,>=3.0.2 in /opt/conda/lib/python3.7/site-packages (from requests>=2.5.0->sphinx->sphinx-rtd-theme<0.5.0,>=0.4.3->qctrl-visualizer) (4.0.0)\n",
      "Requirement already satisfied: idna<3,>=2.5 in /opt/conda/lib/python3.7/site-packages (from requests>=2.5.0->sphinx->sphinx-rtd-theme<0.5.0,>=0.4.3->qctrl-visualizer) (2.10)\n",
      "Requirement already satisfied: certifi>=2017.4.17 in /opt/conda/lib/python3.7/site-packages (from requests>=2.5.0->sphinx->sphinx-rtd-theme<0.5.0,>=0.4.3->qctrl-visualizer) (2020.12.5)\n",
      "Requirement already satisfied: urllib3<1.27,>=1.21.1 in /opt/conda/lib/python3.7/site-packages (from requests>=2.5.0->sphinx->sphinx-rtd-theme<0.5.0,>=0.4.3->qctrl-visualizer) (1.26.4)\n",
      "Requirement already satisfied: MarkupSafe>=0.23 in /opt/conda/lib/python3.7/site-packages (from Jinja2>=2.3->sphinx->sphinx-rtd-theme<0.5.0,>=0.4.3->qctrl-visualizer) (1.1.1)\n",
      "Requirement already satisfied: pytz>=2015.7 in ./.local/lib/python3.7/site-packages (from babel>=1.3->sphinx->sphinx-rtd-theme<0.5.0,>=0.4.3->qctrl-visualizer) (2020.5)\n",
      "Installing collected packages: alabaster, snowballstemmer, sphinx, sphinx-rtd-theme, qctrl-visualizer, qctrl-open-controls\n",
      "\u001b[33m  WARNING: The scripts sphinx-apidoc, sphinx-autogen, sphinx-build and sphinx-quickstart are installed in '/home/jovyan/.local/bin' which is not on PATH.\n",
      "  Consider adding this directory to PATH or, if you prefer to suppress this warning, use --no-warn-script-location.\u001b[0m\n",
      "Successfully installed alabaster-0.7.12 qctrl-open-controls-7.0.1 qctrl-visualizer-2.4.2 snowballstemmer-2.1.0 sphinx-3.5.3 sphinx-rtd-theme-0.4.3\n"
     ]
    }
   ],
   "source": [
    "!pip install --user qctrl-visualizer qctrl-open-controls"
   ]
  },
  {
   "cell_type": "code",
   "execution_count": 10,
   "id": "rubber-split",
   "metadata": {},
   "outputs": [
    {
     "name": "stdout",
     "output_type": "stream",
     "text": [
      "\u001b[94m\n",
      "    ----------------------------------------------------------\n",
      "    This is an interactive Q-CTRL Authentication setup tool.\n",
      "\n",
      "    For non-interactive or alternative options check our help:\n",
      "\n",
      "        $ qctrl auth --help\n",
      "\n",
      "    ----------------------------------------------------------\n",
      "    \u001b[0m\n",
      "Email: "
     ]
    },
    {
     "name": "stdin",
     "output_type": "stream",
     "text": [
      " spencer.king@wustl.edu\n"
     ]
    },
    {
     "name": "stdout",
     "output_type": "stream",
     "text": [
      "Password: "
     ]
    },
    {
     "name": "stdin",
     "output_type": "stream",
     "text": [
      " ···············\n"
     ]
    },
    {
     "name": "stdout",
     "output_type": "stream",
     "text": [
      "Authenticating to https://api.q-ctrl.com\u001b[0m\n",
      "\u001b[32mSuccessfully authenticated!\u001b[0m\n",
      "Authentication file created at /home/jovyan/.config/qctrl/99a605c91232cda79437e2908bdf0837\u001b[0m\n"
     ]
    }
   ],
   "source": [
    "import matplotlib.pyplot as plt\n",
    "import numpy as np\n",
    "\n",
    "from qctrlvisualizer import get_qctrl_style, plot_controls\n",
    "from qctrl import Qctrl\n",
    "\n",
    "qctrl = Qctrl()\n"
   ]
  },
  {
   "cell_type": "code",
   "execution_count": 77,
   "id": "emotional-interpretation",
   "metadata": {},
   "outputs": [],
   "source": [
    "def simulate_more_realistic_qubit(\n",
    "    duration=1, values=np.array([np.pi]), shots=1024, repetitions=1\n",
    "):\n",
    "\n",
    "    # 1. Limits for drive amplitudes\n",
    "    assert np.amax(values) <= 1.0\n",
    "    assert np.amin(values) >= -1.0\n",
    "    max_drive_amplitude = 2 * np.pi * 20  # MHz\n",
    "\n",
    "    # 2. Dephasing error\n",
    "    dephasing_error = -2 * 2 * np.pi  # MHz\n",
    "\n",
    "    # 3. Amplitude error\n",
    "    amplitude_i_error = 0.98\n",
    "    amplitude_q_error = 1.03\n",
    "\n",
    "    # 4. Control line bandwidth limit\n",
    "    cut_off_frequency = 2 * np.pi * 10  # MHz\n",
    "    resample_segment_count = 1000\n",
    "\n",
    "    # 5. SPAM error confusion matrix\n",
    "    confusion_matrix = np.array([[0.99, 0.01], [0.02, 0.98]])\n",
    "\n",
    "    # Lowering operator\n",
    "    b = np.array([[0, 1], [0, 0]])\n",
    "    # Number operator\n",
    "    n = np.diag([0, 1])\n",
    "    # Initial state\n",
    "    initial_state = np.array([[1], [0]])\n",
    "\n",
    "    with qctrl.create_graph() as graph:\n",
    "        # Apply 1. max Rabi rate.\n",
    "        values = values * max_drive_amplitude\n",
    "\n",
    "        # Apply 3. amplitude errors.\n",
    "        values_i = np.real(values) * amplitude_i_error\n",
    "        values_q = np.imag(values) * amplitude_q_error\n",
    "        values = values_i + 1j * values_q\n",
    "\n",
    "        # Apply 4. bandwidth limits\n",
    "        drive_unfiltered = qctrl.operations.pwc_signal(duration=duration, values=values)\n",
    "        drive_filtered = qctrl.operations.convolve_pwc(\n",
    "            pwc=drive_unfiltered,\n",
    "            kernel_integral=qctrl.operations.sinc_integral_function(cut_off_frequency),\n",
    "        )\n",
    "        drive = qctrl.operations.discretize_stf(\n",
    "            drive_filtered, duration=duration, segments_count=resample_segment_count\n",
    "        )\n",
    "\n",
    "        # Construct microwave drive\n",
    "        drive_term = qctrl.operations.pwc_operator_hermitian_part(\n",
    "            qctrl.operations.pwc_operator(signal=drive, operator=b)\n",
    "        )\n",
    "\n",
    "        # Construct 2. dephasing term.\n",
    "        dephasing_term = qctrl.operations.constant_pwc_operator(\n",
    "            operator=dephasing_error * n,\n",
    "            duration=duration,\n",
    "        )\n",
    "\n",
    "        # Construct Hamiltonian.\n",
    "        hamiltonian = qctrl.operations.pwc_sum(\n",
    "            [\n",
    "                drive_term,\n",
    "                dephasing_term,\n",
    "            ]\n",
    "        )\n",
    "\n",
    "        # Solve Schrodinger's equation and get total unitary at the end\n",
    "        unitary = qctrl.operations.time_evolution_operators_pwc(\n",
    "            hamiltonian=hamiltonian,\n",
    "            sample_times=np.array([duration]),\n",
    "        )[-1]\n",
    "        unitary.name = \"unitary\"\n",
    "\n",
    "        # Repeat final unitary\n",
    "        repeated_unitary = np.eye(2)\n",
    "        for _ in range(repetitions):\n",
    "            repeated_unitary = repeated_unitary @ unitary\n",
    "        repeated_unitary.name = \"repeated_unitary\"\n",
    "\n",
    "        # Calculate final state.\n",
    "        state = repeated_unitary @ initial_state\n",
    "\n",
    "        # Calculate final populations.\n",
    "        populations = qctrl.operations.abs(state[:, 0]) ** 2\n",
    "        # Normalize populations\n",
    "        norm = qctrl.operations.sum(populations)\n",
    "        populations = populations / norm\n",
    "        populations.name = \"populations\"\n",
    "\n",
    "    # Evaluate graph.\n",
    "    result = qctrl.functions.calculate_graph(\n",
    "        graph=graph,\n",
    "        output_node_names=[\"unitary\", \"repeated_unitary\", \"populations\"],\n",
    "    )\n",
    "\n",
    "    # Extract outputs.\n",
    "    unitary = result.output[\"unitary\"][\"value\"]\n",
    "    repeated_unitary = result.output[\"repeated_unitary\"][\"value\"]\n",
    "    populations = result.output[\"populations\"][\"value\"]\n",
    "\n",
    "    # Sample projective measurements.\n",
    "    true_measurements = np.random.choice(2, size=shots, p=populations)\n",
    "    measurements = np.array(\n",
    "        [np.random.choice(2, p=confusion_matrix[m]) for m in true_measurements]\n",
    "    )\n",
    "\n",
    "    results = {\"unitary\": unitary, \"measurements\": measurements}\n",
    "\n",
    "    return results\n",
    "\n"
   ]
  },
  {
   "cell_type": "code",
   "execution_count": 79,
   "id": "limiting-alaska",
   "metadata": {},
   "outputs": [
    {
     "data": {
      "application/vnd.jupyter.widget-view+json": {
       "model_id": "",
       "version_major": 2,
       "version_minor": 0
      },
      "text/plain": [
       "  0%|          | 0/100 [00:00<?, ?it/s]"
      ]
     },
     "metadata": {},
     "output_type": "display_data"
    },
    {
     "name": "stdout",
     "output_type": "stream",
     "text": [
      "Your task calculate_graph has started.\n",
      "Your task calculate_graph has completed in 5s.\n"
     ]
    },
    {
     "data": {
      "application/vnd.jupyter.widget-view+json": {
       "model_id": "",
       "version_major": 2,
       "version_minor": 0
      },
      "text/plain": [
       "  0%|          | 0/100 [00:00<?, ?it/s]"
      ]
     },
     "metadata": {},
     "output_type": "display_data"
    },
    {
     "name": "stdout",
     "output_type": "stream",
     "text": [
      "Your task calculate_graph has completed in 3s.\n"
     ]
    }
   ],
   "source": [
    "max_rabi_rate = 20 * 2 * np.pi  # MHz\n",
    "not_duration = np.pi / (max_rabi_rate)  # us\n",
    "h_duration = np.pi / (2 * max_rabi_rate)  # us\n",
    "shots = 1024\n",
    "\n",
    "values = np.array([1.0])\n",
    "\n",
    "not_results = simulate_more_realistic_qubit(\n",
    "    duration=not_duration, values=values, shots=shots\n",
    ")\n",
    "h_results = simulate_more_realistic_qubit(\n",
    "    duration=h_duration, values=values, shots=shots\n",
    ")\n",
    "\n"
   ]
  },
  {
   "cell_type": "code",
   "execution_count": 80,
   "id": "dying-france",
   "metadata": {},
   "outputs": [
    {
     "name": "stdout",
     "output_type": "stream",
     "text": [
      "Realised NOT Gate:\n",
      "[[0.75412104-0.02524955j 0.1026601 -0.64817036j]\n",
      " [0.1026601 -0.64817036j 0.70940919+0.25704996j]]\n",
      "Ideal NOT Gate:\n",
      "[[ 0.+0.j -0.-1.j]\n",
      " [-0.-1.j  0.+0.j]]\n",
      "NOT Gate Error:0.5693360860922008\n",
      "NOT estimated probability of getting 1:0.421875\n",
      "NOT estimate standard error:0.015433086552030378\n",
      "\n",
      "Realised H Gate:\n",
      "[[0.98219782-0.00092913j 0.01473832-0.18726817j]\n",
      " [0.01473832-0.18726817j 0.96995998+0.15456728j]]\n",
      "Ideal H Gate:\n",
      "[[0.70710678+0.j         0.        -0.70710678j]\n",
      " [0.        -0.70710678j 0.70710678+0.j        ]]\n",
      "H Gate Error:0.31912041750757547\n",
      "H estimated probability of getting 1:0.046875\n",
      "H estimate standard error:0.006605346317611662\n"
     ]
    }
   ],
   "source": [
    "realised_not_gate = not_results[\"unitary\"]\n",
    "ideal_not_gate = np.array([[0, -1j], [-1j, 0]])\n",
    "not_error = error_norm(realised_not_gate, ideal_not_gate)\n",
    "realised_h_gate = h_results[\"unitary\"]\n",
    "ideal_h_gate = (1 / np.sqrt(2)) * np.array([[1, -1j], [-1j, 1]])\n",
    "h_error = error_norm(realised_h_gate, ideal_h_gate)\n",
    "\n",
    "not_measurements = not_results[\"measurements\"]\n",
    "h_measurements = h_results[\"measurements\"]\n",
    "not_probability, not_standard_error = estimate_probability_of_one(not_measurements)\n",
    "h_probability, h_standard_error = estimate_probability_of_one(h_measurements)\n",
    "\n",
    "print(\"Realised NOT Gate:\")\n",
    "print(realised_not_gate)\n",
    "print(\"Ideal NOT Gate:\")\n",
    "print(ideal_not_gate)\n",
    "print(\"NOT Gate Error:\" + str(not_error))\n",
    "print(\"NOT estimated probability of getting 1:\" + str(not_probability))\n",
    "print(\"NOT estimate standard error:\" + str(not_standard_error) + \"\\n\")\n",
    "\n",
    "print(\"Realised H Gate:\")\n",
    "print(realised_h_gate)\n",
    "print(\"Ideal H Gate:\")\n",
    "print(ideal_h_gate)\n",
    "print(\"H Gate Error:\" + str(h_error))\n",
    "print(\"H estimated probability of getting 1:\" + str(h_probability))\n",
    "print(\"H estimate standard error:\" + str(h_standard_error))\n",
    "\n"
   ]
  },
  {
   "cell_type": "code",
   "execution_count": null,
   "id": "capital-count",
   "metadata": {},
   "outputs": [],
   "source": []
  }
 ],
 "metadata": {
  "kernelspec": {
   "display_name": "Python 3",
   "language": "python",
   "name": "python3"
  },
  "language_info": {
   "codemirror_mode": {
    "name": "ipython",
    "version": 3
   },
   "file_extension": ".py",
   "mimetype": "text/x-python",
   "name": "python",
   "nbconvert_exporter": "python",
   "pygments_lexer": "ipython3",
   "version": "3.7.6"
  }
 },
 "nbformat": 4,
 "nbformat_minor": 5
}
